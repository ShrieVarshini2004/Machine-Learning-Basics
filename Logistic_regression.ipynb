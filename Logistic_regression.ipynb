{
  "nbformat": 4,
  "nbformat_minor": 0,
  "metadata": {
    "colab": {
      "provenance": [],
      "authorship_tag": "ABX9TyM8Z2OKYRZsHNAObhv6vM79",
      "include_colab_link": true
    },
    "kernelspec": {
      "name": "python3",
      "display_name": "Python 3"
    },
    "language_info": {
      "name": "python"
    }
  },
  "cells": [
    {
      "cell_type": "markdown",
      "metadata": {
        "id": "view-in-github",
        "colab_type": "text"
      },
      "source": [
        "<a href=\"https://colab.research.google.com/github/ShrieVarshini2004/Machine-Learning-Basics/blob/main/Logistic_regression.ipynb\" target=\"_parent\"><img src=\"https://colab.research.google.com/assets/colab-badge.svg\" alt=\"Open In Colab\"/></a>"
      ]
    },
    {
      "cell_type": "markdown",
      "source": [
        "This code implements Logistic Regression to predict customer churn using Python and scikit-learn. Here's a step-by-step breakdown:\n",
        "\n",
        "Load Data:\n",
        "Downloads the dataset and selects relevant features.\n",
        "Preprocess Data:\n",
        "Standardizes features for better model performance.\n",
        "Split Data:\n",
        "Divides data into 80% training and 20% testing sets.\n",
        "Train Logistic Regression Model:\n",
        "Uses liblinear solver with C=0.01 for regularization.\n",
        "Make Predictions:\n",
        "Predicts churn (0 or 1) and computes probabilities.\n",
        "Evaluate Performance:\n",
        "Uses Jaccard Score, Confusion Matrix, Classification Report, and Log Loss.\n",
        "Compare with Another Solver (sag)\n",
        "\n",
        "Trains a second model using sag solver and compares log loss.\n",
        "Key Takeaways:\n",
        "\n",
        "✅ Logistic Regression is used for binary classification.\n",
        "\n",
        "✅ Feature scaling (standardization) improves accuracy.\n",
        "\n",
        "✅ Performance metrics help assess model effectiveness.\n",
        "\n",
        "✅ Different solvers can impact results."
      ],
      "metadata": {
        "id": "lXsuQ5VNIKQb"
      }
    },
    {
      "cell_type": "code",
      "execution_count": 2,
      "metadata": {
        "colab": {
          "base_uri": "https://localhost:8080/",
          "height": 1000
        },
        "id": "O1mbnyFaAX8n",
        "outputId": "dc1f3167-a220-4253-87dd-8ecdfb85f6f1"
      },
      "outputs": [
        {
          "output_type": "stream",
          "name": "stdout",
          "text": [
            "--2025-02-20 15:44:33--  https://cf-courses-data.s3.us.cloud-object-storage.appdomain.cloud/IBMDeveloperSkillsNetwork-ML0101EN-SkillsNetwork/labs/Module%203/data/ChurnData.csv\n",
            "Resolving cf-courses-data.s3.us.cloud-object-storage.appdomain.cloud (cf-courses-data.s3.us.cloud-object-storage.appdomain.cloud)... 169.63.118.104\n",
            "Connecting to cf-courses-data.s3.us.cloud-object-storage.appdomain.cloud (cf-courses-data.s3.us.cloud-object-storage.appdomain.cloud)|169.63.118.104|:443... connected.\n",
            "HTTP request sent, awaiting response... 200 OK\n",
            "Length: 35943 (35K) [text/csv]\n",
            "Saving to: ‘ChurnData.csv’\n",
            "\n",
            "ChurnData.csv       100%[===================>]  35.10K  --.-KB/s    in 0.1s    \n",
            "\n",
            "2025-02-20 15:44:35 (254 KB/s) - ‘ChurnData.csv’ saved [35943/35943]\n",
            "\n",
            "Total rows: 200, Total columns: 10\n",
            "Column names: ['tenure', 'age', 'address', 'income', 'ed', 'employ', 'equip', 'callcard', 'wireless', 'churn']\n",
            "Train set: (160, 7) (160,)\n",
            "Test set: (40, 7) (40,)\n",
            "[[ 6  9]\n",
            " [ 1 24]]\n",
            "Confusion matrix, without normalization\n",
            "[[ 6  9]\n",
            " [ 1 24]]\n",
            "              precision    recall  f1-score   support\n",
            "\n",
            "           0       0.73      0.96      0.83        25\n",
            "           1       0.86      0.40      0.55        15\n",
            "\n",
            "    accuracy                           0.75        40\n",
            "   macro avg       0.79      0.68      0.69        40\n",
            "weighted avg       0.78      0.75      0.72        40\n",
            "\n",
            "LogLoss: : 0.61\n"
          ]
        },
        {
          "output_type": "display_data",
          "data": {
            "text/plain": [
              "<Figure size 640x480 with 2 Axes>"
            ],
            "image/png": "[encoded data removed]"
          },
          "metadata": {}
        }
      ],
      "source": [
        "import pandas as pd\n",
        "import pylab as pl\n",
        "import numpy as np\n",
        "import scipy.optimize as opt\n",
        "from sklearn import preprocessing\n",
        "%matplotlib inline\n",
        "import matplotlib.pyplot as plt\n",
        "#Click here and press Shift+Enter\n",
        "!wget -O ChurnData.csv https://cf-courses-data.s3.us.cloud-object-storage.appdomain.cloud/IBMDeveloperSkillsNetwork-ML0101EN-SkillsNetwork/labs/Module%203/data/ChurnData.csv\n",
        "churn_df = pd.read_csv(\"ChurnData.csv\")\n",
        "churn_df.head()\n",
        "churn_df = churn_df[['tenure', 'age', 'address', 'income', 'ed', 'employ', 'equip',   'callcard', 'wireless','churn']]\n",
        "churn_df['churn'] = churn_df['churn'].astype('int')\n",
        "churn_df.head()\n",
        "# Get the number of rows and columns\n",
        "rows, cols = churn_df.shape\n",
        "print(f\"Total rows: {rows}, Total columns: {cols}\")\n",
        "# Get the column names\n",
        "print(\"Column names:\", churn_df.columns.tolist())\n",
        "X = np.asarray(churn_df[['tenure', 'age', 'address', 'income', 'ed', 'employ', 'equip']])\n",
        "X[0:5]\n",
        "y = np.asarray(churn_df['churn'])\n",
        "y [0:5]\n",
        "from sklearn import preprocessing\n",
        "X = preprocessing.StandardScaler().fit(X).transform(X)\n",
        "X[0:5]\n",
        "from sklearn.model_selection import train_test_split\n",
        "X_train, X_test, y_train, y_test = train_test_split( X, y, test_size=0.2, random_state=4)\n",
        "print ('Train set:', X_train.shape,  y_train.shape)\n",
        "print ('Test set:', X_test.shape,  y_test.shape)\n",
        "from sklearn.linear_model import LogisticRegression\n",
        "from sklearn.metrics import confusion_matrix\n",
        "LR = LogisticRegression(C=0.01, solver='liblinear').fit(X_train,y_train)\n",
        "LR\n",
        "yhat = LR.predict(X_test)\n",
        "yhat\n",
        "yhat_prob = LR.predict_proba(X_test)\n",
        "yhat_prob\n",
        "from sklearn.metrics import jaccard_score\n",
        "jaccard_score(y_test, yhat,pos_label=0)\n",
        "from sklearn.metrics import classification_report, confusion_matrix\n",
        "import itertools\n",
        "def plot_confusion_matrix(cm, classes,\n",
        "                          normalize=False,\n",
        "                          title='Confusion matrix',\n",
        "                          cmap=plt.cm.Blues):\n",
        "    \"\"\"\n",
        "    This function prints and plots the confusion matrix.\n",
        "    Normalization can be applied by setting `normalize=True`.\n",
        "    \"\"\"\n",
        "    if normalize:\n",
        "        cm = cm.astype('float') / cm.sum(axis=1)[:, np.newaxis]\n",
        "        print(\"Normalized confusion matrix\")\n",
        "    else:\n",
        "        print('Confusion matrix, without normalization')\n",
        "\n",
        "    print(cm)\n",
        "\n",
        "    plt.imshow(cm, interpolation='nearest', cmap=cmap)\n",
        "    plt.title(title)\n",
        "    plt.colorbar()\n",
        "    tick_marks = np.arange(len(classes))\n",
        "    plt.xticks(tick_marks, classes, rotation=45)\n",
        "    plt.yticks(tick_marks, classes)\n",
        "\n",
        "    fmt = '.2f' if normalize else 'd'\n",
        "    thresh = cm.max() / 2.\n",
        "    for i, j in itertools.product(range(cm.shape[0]), range(cm.shape[1])):\n",
        "        plt.text(j, i, format(cm[i, j], fmt),\n",
        "                 horizontalalignment=\"center\",\n",
        "                 color=\"white\" if cm[i, j] > thresh else \"black\")\n",
        "\n",
        "    plt.tight_layout()\n",
        "    plt.ylabel('True label')\n",
        "    plt.xlabel('Predicted label')\n",
        "print(confusion_matrix(y_test, yhat, labels=[1,0]))\n",
        "# Compute confusion matrix\n",
        "cnf_matrix = confusion_matrix(y_test, yhat, labels=[1,0])\n",
        "np.set_printoptions(precision=2)\n",
        "\n",
        "\n",
        "# Plot non-normalized confusion matrix\n",
        "plt.figure()\n",
        "plot_confusion_matrix(cnf_matrix, classes=['churn=1','churn=0'],normalize= False,  title='Confusion matrix')\n",
        "print (classification_report(y_test, yhat))\n",
        "from sklearn.metrics import log_loss\n",
        "log_loss(y_test, yhat_prob)\n",
        "LR2 = LogisticRegression(C=0.01, solver='sag').fit(X_train,y_train)\n",
        "yhat_prob2 = LR2.predict_proba(X_test)\n",
        "print (\"LogLoss: : %.2f\" % log_loss(y_test, yhat_prob2))\n"
      ]
    }
  ]
}