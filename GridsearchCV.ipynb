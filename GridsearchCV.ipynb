{
  "nbformat": 4,
  "nbformat_minor": 0,
  "metadata": {
    "colab": {
      "provenance": [],
      "authorship_tag": "ABX9TyMnVp4HThKf5zHkrtpQD7SY",
      "include_colab_link": true
    },
    "kernelspec": {
      "name": "python3",
      "display_name": "Python 3"
    },
    "language_info": {
      "name": "python"
    }
  },
  "cells": [
    {
      "cell_type": "markdown",
      "metadata": {
        "id": "view-in-github",
        "colab_type": "text"
      },
      "source": [
        "<a href=\"https://colab.research.google.com/github/ShrieVarshini2004/Machine-Learning-Basics/blob/main/GridsearchCV.ipynb\" target=\"_parent\"><img src=\"https://colab.research.google.com/assets/colab-badge.svg\" alt=\"Open In Colab\"/></a>"
      ]
    },
    {
      "cell_type": "markdown",
      "source": [
        "1️⃣ Cross-Validation (CV)\n",
        "\n",
        "✅ Purpose: To evaluate a model’s performance by splitting data multiple times.\n",
        "\n",
        "✅ Prevents Overfitting: Ensures the model generalizes well to unseen data.\n",
        "\n",
        "✅ Types of CV:\n",
        "\n",
        "K-Fold CV: Splits data into K folds, trains on K-1, tests on 1.\n",
        "Stratified K-Fold: Maintains class balance in each fold (for imbalanced datasets).\n",
        "Leave-One-Out CV (LOO-CV): Trains on all but one sample, repeats for each sample.\n",
        "Time Series CV: Used for sequential data, ensures no data leakage.\n",
        "\n",
        "2️⃣ GridSearchCV\n",
        "\n",
        "✅ Purpose: Finds the best hyperparameters for a model by testing all possible\n",
        "combinations.\n",
        "\n",
        "✅ Works by:\n",
        "Defining a grid of hyperparameter values.\n",
        "Using Cross-Validation (CV) to test each combination.\n",
        "Selecting the best combination based on a scoring metric (e.g., accuracy).\n",
        "\n",
        "✅ Example Use-Case: Tuning hyperparameters like C, kernel, gamma in an SVM.\n",
        "\n",
        "✅ Alternative: RandomizedSearchCV (tests random combinations, faster for large grids)."
      ],
      "metadata": {
        "id": "GVLO__ijlnBF"
      }
    },
    {
      "cell_type": "code",
      "execution_count": 1,
      "metadata": {
        "colab": {
          "base_uri": "https://localhost:8080/"
        },
        "id": "2OeqHVAFkZl1",
        "outputId": "a0bcee43-afff-4710-8b65-0c14b7c83459"
      },
      "outputs": [
        {
          "output_type": "stream",
          "name": "stdout",
          "text": [
            "Best Parameters: {'C': 1, 'gamma': 'scale', 'kernel': 'linear'}\n",
            "Best Score: 0.9583333333333334\n"
          ]
        }
      ],
      "source": [
        "from sklearn.model_selection import GridSearchCV\n",
        "from sklearn.svm import SVC\n",
        "from sklearn.datasets import load_iris\n",
        "from sklearn.model_selection import train_test_split\n",
        "\n",
        "# Load dataset\n",
        "iris = load_iris()\n",
        "X_train, X_test, y_train, y_test = train_test_split(iris.data, iris.target, test_size=0.2, random_state=42)\n",
        "\n",
        "# Define model\n",
        "model = SVC()\n",
        "\n",
        "# Define hyperparameter grid\n",
        "param_grid = {\n",
        "    'C': [0.1, 1, 10],   # Regularization parameter\n",
        "    'kernel': ['linear', 'rbf'],  # Kernel type\n",
        "    'gamma': ['scale', 'auto']  # Kernel coefficient\n",
        "}\n",
        "\n",
        "# Apply GridSearchCV\n",
        "grid_search = GridSearchCV(model, param_grid, cv=5, scoring='accuracy')\n",
        "grid_search.fit(X_train, y_train)\n",
        "\n",
        "# Print best parameters\n",
        "print(\"Best Parameters:\", grid_search.best_params_)\n",
        "print(\"Best Score:\", grid_search.best_score_)\n"
      ]
    },
    {
      "cell_type": "code",
      "source": [
        "import pandas as pd\n",
        "from sklearn.model_selection import GridSearchCV\n",
        "from sklearn.svm import SVC\n",
        "from sklearn.datasets import load_iris\n",
        "from sklearn.model_selection import train_test_split\n",
        "\n",
        "# Load dataset\n",
        "iris = load_iris()\n",
        "X_train, X_test, y_train, y_test = train_test_split(iris.data, iris.target, test_size=0.2, random_state=42)\n",
        "\n",
        "# Define model\n",
        "model = SVC()\n",
        "\n",
        "# Define hyperparameter grid\n",
        "param_grid = {\n",
        "    'C': [0.1, 1, 10],   # Regularization parameter\n",
        "    'kernel': ['linear', 'rbf'],  # Kernel type\n",
        "    'gamma': ['scale', 'auto']  # Kernel coefficient\n",
        "}\n",
        "\n",
        "# Apply GridSearchCV\n",
        "grid_search = GridSearchCV(model, param_grid, cv=5, scoring='accuracy', return_train_score=True)\n",
        "grid_search.fit(X_train, y_train)\n",
        "\n",
        "# Extract results into a DataFrame\n",
        "results_df = pd.DataFrame(grid_search.cv_results_)\n",
        "\n",
        "# Select relevant columns for comparison\n",
        "comparison_df = results_df[['param_C', 'param_kernel', 'param_gamma', 'mean_test_score', 'rank_test_score']]\n",
        "\n",
        "# Sort by best test score\n",
        "comparison_df = comparison_df.sort_values(by=\"rank_test_score\")\n",
        "\n",
        "# Display the comparison matrix\n",
        "print(\"\\nEvaluation Matrix:\")\n",
        "print(comparison_df)\n",
        "print(\"\\nBest Hyperparameters:\", grid_search.best_params_)\n",
        "print(\"Best Score:\", grid_search.best_score_)\n"
      ],
      "metadata": {
        "colab": {
          "base_uri": "https://localhost:8080/"
        },
        "id": "09BK_cIQlQvq",
        "outputId": "6f8dc207-d295-4de4-9438-30ac9acdf025"
      },
      "execution_count": 2,
      "outputs": [
        {
          "output_type": "stream",
          "name": "stdout",
          "text": [
            "\n",
            "Evaluation Matrix:\n",
            "    param_C param_kernel param_gamma  mean_test_score  rank_test_score\n",
            "4       1.0       linear       scale         0.958333                1\n",
            "6       1.0       linear        auto         0.958333                1\n",
            "11     10.0          rbf        auto         0.958333                1\n",
            "5       1.0          rbf       scale         0.950000                4\n",
            "7       1.0          rbf        auto         0.950000                4\n",
            "8      10.0       linear       scale         0.950000                4\n",
            "9      10.0          rbf       scale         0.950000                4\n",
            "10     10.0       linear        auto         0.950000                4\n",
            "0       0.1       linear       scale         0.941667                9\n",
            "2       0.1       linear        auto         0.941667                9\n",
            "3       0.1          rbf        auto         0.916667               11\n",
            "1       0.1          rbf       scale         0.891667               12\n",
            "\n",
            "Best Hyperparameters: {'C': 1, 'gamma': 'scale', 'kernel': 'linear'}\n",
            "Best Score: 0.9583333333333334\n"
          ]
        }
      ]
    }
  ]
}